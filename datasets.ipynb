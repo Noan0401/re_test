{
 "cells": [
  {
   "cell_type": "code",
   "execution_count": 1,
   "metadata": {},
   "outputs": [],
   "source": [
    "import numpy as np"
   ]
  },
  {
   "cell_type": "code",
   "execution_count": 2,
   "metadata": {},
   "outputs": [],
   "source": [
    "def load_linear_exapmle1():\n",
    "    X = np.array([[1,4],[1,8],[1,13],[1,17]])\n",
    "    Y = np.array([7,10,11,14])\n",
    "    return X,Y"
   ]
  },
  {
   "cell_type": "code",
   "execution_count": 7,
   "metadata": {},
   "outputs": [
    {
     "name": "stdout",
     "output_type": "stream",
     "text": [
      "[[ 1  4]\n",
      " [ 1  8]\n",
      " [ 1 13]\n",
      " [ 1 17]]\n",
      "[1 4]\n",
      "[ 7 10 11 14]\n"
     ]
    }
   ],
   "source": [
    "#testing\n",
    "X,Y = load_linear_exapmle1()\n",
    "print(X)\n",
    "print(X[0])\n",
    "print(Y)"
   ]
  },
  {
   "cell_type": "code",
   "execution_count": 8,
   "metadata": {},
   "outputs": [],
   "source": [
    "class LinearRegression:\n",
    "    x = None\n",
    "    theta = None\n",
    "    y = None\n",
    "    \n",
    "    def fit(self,x,y):\n",
    "        pass\n",
    "    \n",
    "    def predict(self,x):\n",
    "        pass\n",
    "    \n",
    "    def score(self,x,y):\n",
    "        pass"
   ]
  },
  {
   "cell_type": "code",
   "execution_count": 11,
   "metadata": {},
   "outputs": [
    {
     "name": "stdout",
     "output_type": "stream",
     "text": [
      "None\n"
     ]
    }
   ],
   "source": [
    "#testing\n",
    "model = LinearRegression()\n",
    "print(model.x)"
   ]
  },
  {
   "cell_type": "code",
   "execution_count": null,
   "metadata": {},
   "outputs": [],
   "source": []
  }
 ],
 "metadata": {
  "kernelspec": {
   "display_name": "Python 3",
   "language": "python",
   "name": "python3"
  },
  "language_info": {
   "codemirror_mode": {
    "name": "ipython",
    "version": 3
   },
   "file_extension": ".py",
   "mimetype": "text/x-python",
   "name": "python",
   "nbconvert_exporter": "python",
   "pygments_lexer": "ipython3",
   "version": "3.7.1"
  }
 },
 "nbformat": 4,
 "nbformat_minor": 2
}
