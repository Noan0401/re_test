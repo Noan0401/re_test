{
 "cells": [
  {
   "cell_type": "code",
   "execution_count": 27,
   "metadata": {},
   "outputs": [],
   "source": [
    "import numpy as np"
   ]
  },
  {
   "cell_type": "code",
   "execution_count": 48,
   "metadata": {},
   "outputs": [],
   "source": [
    "import numpy as np\n",
    "def load_linear_exapmle1():\n",
    "    X = np.array([[1,4],[1,8],[1,13],[1,17]])\n",
    "    Y = np.array([7,10,11,14])\n",
    "    return X,Y"
   ]
  },
  {
   "cell_type": "code",
   "execution_count": 47,
   "metadata": {},
   "outputs": [
    {
     "name": "stdout",
     "output_type": "stream",
     "text": [
      "[[ 1  4]\n",
      " [ 1  8]\n",
      " [ 1 13]\n",
      " [ 1 17]]\n",
      "[1 4]\n",
      "[ 7 10 11 14]\n"
     ]
    }
   ],
   "source": [
    "#testing\n",
    "X,Y = load_linear_exapmle1()\n",
    "print(X)\n",
    "print(X[0])\n",
    "print(Y)"
   ]
  },
  {
   "cell_type": "code",
   "execution_count": 53,
   "metadata": {},
   "outputs": [],
   "source": [
    "import numpy as np\n",
    "class LinearRegression:\n",
    "    x = None\n",
    "    theta = None\n",
    "    y = None\n",
    "    \n",
    "    def fit(self, x, y):\n",
    "        temp = np.linalg.inv(np.dot(x.T,x))\n",
    "        self.theta = np.dot(np.dot(temp,x.T),y)\n",
    "    \n",
    "    def predict(self, x):\n",
    "        return np.dot(x,self,theta)\n",
    "    \n",
    "    def score(self, x, y):\n",
    "        pass"
   ]
  },
  {
   "cell_type": "code",
   "execution_count": 40,
   "metadata": {},
   "outputs": [
    {
     "name": "stdout",
     "output_type": "stream",
     "text": [
      "None\n"
     ]
    }
   ],
   "source": [
    "#testing\n",
    "model = LinearRegression()\n",
    "print(model.x)"
   ]
  },
  {
   "cell_type": "code",
   "execution_count": 52,
   "metadata": {},
   "outputs": [
    {
     "name": "stdout",
     "output_type": "stream",
     "text": [
      "[5.30412371 0.49484536]\n"
     ]
    }
   ],
   "source": [
    "#testing\n",
    "\n",
    "model = LinearRegression()\n",
    "model.fit(X,Y)\n",
    "print(model.theta)"
   ]
  },
  {
   "cell_type": "code",
   "execution_count": null,
   "metadata": {},
   "outputs": [],
   "source": [
    "#testing\n",
    "model = LinearRegression()\n",
    "model.fit(X,Y)\n",
    "model.pre(X,Y)"
   ]
  },
  {
   "cell_type": "code",
   "execution_count": null,
   "metadata": {},
   "outputs": [],
   "source": []
  },
  {
   "cell_type": "code",
   "execution_count": null,
   "metadata": {},
   "outputs": [],
   "source": []
  }
 ],
 "metadata": {
  "kernelspec": {
   "display_name": "Python 3",
   "language": "python",
   "name": "python3"
  },
  "language_info": {
   "codemirror_mode": {
    "name": "ipython",
    "version": 3
   },
   "file_extension": ".py",
   "mimetype": "text/x-python",
   "name": "python",
   "nbconvert_exporter": "python",
   "pygments_lexer": "ipython3",
   "version": "3.7.1"
  }
 },
 "nbformat": 4,
 "nbformat_minor": 2
}
